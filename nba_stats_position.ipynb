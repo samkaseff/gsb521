{
	"metadata": {
		"kernelspec": {
			"name": "glue_pyspark",
			"display_name": "Glue PySpark",
			"language": "python"
		},
		"language_info": {
			"name": "Python_Glue_Session",
			"mimetype": "text/x-python",
			"codemirror_mode": {
				"name": "python",
				"version": 3
			},
			"pygments_lexer": "python3",
			"file_extension": ".py"
		}
	},
	"nbformat_minor": 4,
	"nbformat": 4,
	"cells": [
		{
			"cell_type": "code",
			"source": "import requests\nimport pandas as pd\n\n# API URL\nurl = \"https://site.web.api.espn.com/apis/common/v3/sports/basketball/nba/statistics/byathlete?region=us&lang=en&contentorigin=espn&isqualified=true&page=1&limit=350&sort=offensive.avgPoints:desc\"\n\n# Fetch the data from the API\nresponse = requests.get(url)\ndata = response.json()\n\n# Process the data\nathletes = data['athletes']\n\ncategory_map = {}\n\nfor category in data['categories']:\n    category_map[category['name']] = category['displayNames']\n\nathlete_map = {}\n\nfor athlete in athletes:\n    athlete_stats = {}\n    # Assuming 'position' is directly available under 'athlete' and it has a property like 'abbreviation' for the position short form\n    position = athlete['athlete'].get('position', {}).get('abbreviation', 'N/A')  # Use 'N/A' or similar if position is not available\n    athlete_map[athlete['athlete']['displayName']] = athlete_stats\n    athlete_stats['Position'] = position  # Add position to the athlete's stats\n    for category in athlete['categories']:\n        category_name = category['name']\n        category_display_name = category_map.get(category_name, ['Unknown'])  # Fallback to 'Unknown' if not found\n        for i in range(len(category['totals'])):\n            athlete_stats[category_display_name[i]] = category['totals'][i]  # Ensure to index totals correctly\n            \ndf = pd.DataFrame.from_dict(athlete_map, orient='index')\n",
			"metadata": {
				"trusted": true,
				"tags": []
			},
			"execution_count": 7,
			"outputs": [
				{
					"name": "stdout",
					"text": "\n",
					"output_type": "stream"
				}
			]
		},
		{
			"cell_type": "code",
			"source": "import pandas as pd\nimport boto3\nfrom io import StringIO\nfrom datetime import datetime\n\n# Convert the DataFrame to a CSV string\ncsv_buffer = StringIO()\ndf.to_csv(csv_buffer)\n\n# Get the current date to name the folder\ndate_str = datetime.now().strftime('%Y-%m-%d')\nfile_name = f\"{date_str}/daily_stats.csv\"\n\n# Bucket name\nbucket_name = 'nbagraphssamsean'\n\n# Initialize a session using boto3\ns3_resource = boto3.resource('s3')\n\n# Upload the CSV file to S3\ns3_resource.Object(bucket_name, file_name).put(Body=csv_buffer.getvalue())\n\nprint(f\"File successfully uploaded to s3://{bucket_name}/{file_name}\")\n",
			"metadata": {
				"trusted": true,
				"tags": []
			},
			"execution_count": 17,
			"outputs": [
				{
					"name": "stdout",
					"text": "File successfully uploaded to s3://nbagraphssamsean/2024-02-28/daily_stats.csv\n",
					"output_type": "stream"
				}
			]
		},
		{
			"cell_type": "code",
			"source": "import matplotlib.pyplot as plt\nimport seaborn as sns\nimport io\n\n# Assuming df is your DataFrame and it's already preprocessed\n# Ensure that the FG% column is numeric. Sometimes scraping can bring in non-numeric types.\ndf['Field Goal Percentage'] = pd.to_numeric(df['Field Goal Percentage'], errors='coerce')\n\n# Drop rows with NaN values in 'FG%' column that might have resulted from conversion\ndf.dropna(subset=['Field Goal Percentage'], inplace=True)\n\n# Create the boxplot\nplt.figure(figsize=(12, 10))\nsns.boxplot(x='Position', y='Field Goal Percentage', data=df)\n\n# Your mapping\nposition_names = {\n    'PG': 'Point Guard',\n    'SG': 'Shooting Guard',\n    'SF': 'Small Forward',\n    'PF': 'Power Forward',\n    'C': 'Center',\n    'F': 'Forward',\n    'G': 'Guard'\n}\n\n# To fix the KeyError, we map the 'POS' column in df to their full names for plotting.\n# This is done by creating a new column for display purposes.\ndf['Position Full Name'] = df['Position'].map(position_names)\n\n# Recreate the boxplot with the updated DataFrame\nsns.boxplot(x='Position Full Name', y='Field Goal Percentage', data=df)\nplt.title('Boxplot of Field Goal Percentage by Position')\nplt.xlabel('Position')\nplt.ylabel('Field Goal Percentage')\nplt.xticks(rotation=45)  # Optional: Rotate for better readability\n\n# Instead of plt.show(), save the plot to a BytesIO buffer\nbuf = io.BytesIO()\nplt.savefig(buf, format='png', bbox_inches='tight')\nbuf.seek(0)\n\n# Now, you can upload this buffer to S3 or another storage service\n# Let's assume you want to upload it to S3.\n# You would need the boto3 library and your AWS credentials set up for this.\n\ns3 = boto3.client('s3')\n\nobject_name = f'{date_str}/field_goal_percentage_by_position.png'\ns3.upload_fileobj(buf, bucket_name, object_name)\n\nbuf.close()  # Don't forget to close the buffer!\n\nprint(f\"Plot successfully uploaded to s3://{bucket_name}/{object_name}\")",
			"metadata": {
				"trusted": true,
				"tags": []
			},
			"execution_count": 24,
			"outputs": [
				{
					"name": "stdout",
					"text": "Plot successfully uploaded to s3://nbagraphssamsean/2024-02-28/field_goal_percentage_by_position.png\n",
					"output_type": "stream"
				}
			]
		},
		{
			"cell_type": "code",
			"source": "df['3-Point Field Goal Percentage'] = pd.to_numeric(df['3-Point Field Goal Percentage'], errors='coerce')\n\n# Drop rows with NaN values in 'FG%' column that might have resulted from conversion\ndf.dropna(subset=['3-Point Field Goal Percentage'], inplace=True)\n\n# Create the boxplot\nplt.figure(figsize=(12, 10))\n\nsns.boxplot(x='Position Full Name', y='3-Point Field Goal Percentage', data=df)\nplt.title('Boxplot of 3-Point Percentage by Position')\nplt.xlabel('Position')\nplt.ylabel('3-Point Percentage')\nplt.xticks(rotation=45)  # Optional: Rotate for better readability\n\n# Instead of plt.show(), save the plot to a BytesIO buffer\nbuf = io.BytesIO()\nplt.savefig(buf, format='png', bbox_inches='tight')\nbuf.seek(0)\n\n# Now, you can upload this buffer to S3 or another storage service\n# Let's assume you want to upload it to S3.\n# You would need the boto3 library and your AWS credentials set up for this.\n\ns3 = boto3.client('s3')\n\nobject_name = f'{date_str}/3point_percentage_by_position.png'\ns3.upload_fileobj(buf, bucket_name, object_name)\n\nbuf.close()  # Don't forget to close the buffer!\n\nprint(f\"Plot successfully uploaded to s3://{bucket_name}/{object_name}\")",
			"metadata": {
				"trusted": true,
				"tags": []
			},
			"execution_count": 25,
			"outputs": [
				{
					"name": "stdout",
					"text": "Plot successfully uploaded to s3://nbagraphssamsean/2024-02-28/3point_percentage_by_position.png\n",
					"output_type": "stream"
				}
			]
		},
		{
			"cell_type": "code",
			"source": "df['Free Throw Percentage'] = pd.to_numeric(df['Free Throw Percentage'], errors='coerce')\n\n# Drop rows with NaN values in 'FG%' column that might have resulted from conversion\ndf.dropna(subset=['Free Throw Percentage'], inplace=True)\n\n# Create the boxplot\nplt.figure(figsize=(12, 10))\n\nsns.boxplot(x='Position Full Name', y='Free Throw Percentage', data=df)\nplt.title('Boxplot of Free Throw Percentage by Position')\nplt.xlabel('Position')\nplt.ylabel('Free Throw Percentage')\nplt.xticks(rotation=45)  # Optional: Rotate for better readability\n\n# Instead of plt.show(), save the plot to a BytesIO buffer\nbuf = io.BytesIO()\nplt.savefig(buf, format='png', bbox_inches='tight')\nbuf.seek(0)\n\n# Now, you can upload this buffer to S3 or another storage service\n# Let's assume you want to upload it to S3.\n# You would need the boto3 library and your AWS credentials set up for this.\n\ns3 = boto3.client('s3')\n\nobject_name = f'{date_str}/free_throw_percentage_by_position.png'\ns3.upload_fileobj(buf, bucket_name, object_name)\n\nbuf.close()  # Don't forget to close the buffer!\n\nprint(f\"Plot successfully uploaded to s3://{bucket_name}/{object_name}\")",
			"metadata": {
				"trusted": true,
				"tags": []
			},
			"execution_count": 26,
			"outputs": [
				{
					"name": "stdout",
					"text": "Plot successfully uploaded to s3://nbagraphssamsean/2024-02-28/free_throw_percentage_by_position.png\n",
					"output_type": "stream"
				}
			]
		},
		{
			"cell_type": "code",
			"source": "",
			"metadata": {},
			"execution_count": null,
			"outputs": []
		}
	]
}