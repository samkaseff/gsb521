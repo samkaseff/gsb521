{
	"metadata": {
		"kernelspec": {
			"name": "glue_pyspark",
			"display_name": "Glue PySpark",
			"language": "python"
		},
		"language_info": {
			"name": "Python_Glue_Session",
			"mimetype": "text/x-python",
			"codemirror_mode": {
				"name": "python",
				"version": 3
			},
			"pygments_lexer": "python3",
			"file_extension": ".py"
		}
	},
	"nbformat_minor": 4,
	"nbformat": 4,
	"cells": [
		{
			"cell_type": "code",
			"source": "import requests\nimport pandas as pd\n\n# Initialize a list to store data frames for each season and season type\ndfs = []\n\n# Loop through the seasons from a starting year up to 2023\nfor year in range(2019, 2025):\n    # Define the season types to loop through, normally both 2 and 3\n    season_types = [2, 3]\n    \n    # If the year is 2024, only look for season_type 2\n    if year == 2024:\n        season_types = [2]\n\n    # Loop through the defined season types\n    for season_type in season_types:\n        # Modify the API URL to include the current year and season type\n        url = f\"https://site.web.api.espn.com/apis/common/v3/sports/basketball/nba/statistics/byathlete?region=us&lang=en&contentorigin=espn&isqualified=true&page=1&limit=350&sort=offensive.avgPoints:desc&season={year}&seasontype={season_type}\"\n\n        # Fetch the data from the API\n        response = requests.get(url)\n        data = response.json()\n\n        # Check if 'athletes' key exists in the response\n        if 'athletes' in data:\n            athletes = data['athletes']\n        else:\n            print(f\"No athlete data available for season {year} and season type {season_type}.\")\n            continue\n\n        # Process the data\n        athletes = data['athletes']\n\n        category_map = {}\n\n        for category in data['categories']:\n            category_map[category['name']] = category['displayNames']\n\n        athlete_map = {}\n\n        for athlete in athletes:\n            athlete_stats = {}\n\n            position = athlete['athlete'].get('position', {}).get('abbreviation', 'N/A')\n            athlete_map[athlete['athlete']['displayName']] = athlete_stats\n            athlete_stats['Position'] = position  \n            for category in athlete['categories']:\n                category_name = category['name']\n                category_display_name = category_map.get(category_name, ['Unknown']) \n                for i in range(len(category['totals'])):\n                    athlete_stats[category_display_name[i]] = category['totals'][i]  \n        \n        # Create a DataFrame for the current year and season type\n        df = pd.DataFrame.from_dict(athlete_map, orient='index')\n        df['Year'] = year\n        df['SeasonType'] = 'Regular Season' if season_type == 2 else 'Postseason'\n        \n        # Append the DataFrame to the list\n        dfs.append(df)\n\n# Concatenate all DataFrames into a single DataFrame\nfinal_df = pd.concat(dfs, ignore_index=True)\n",
			"metadata": {
				"trusted": true,
				"tags": []
			},
			"execution_count": 1,
			"outputs": [
				{
					"name": "stdout",
					"text": "Welcome to the Glue Interactive Sessions Kernel\nFor more information on available magic commands, please type %help in any new cell.\n\nPlease view our Getting Started page to access the most up-to-date information on the Interactive Sessions kernel: https://docs.aws.amazon.com/glue/latest/dg/interactive-sessions.html\nInstalled kernel version: 1.0.4 \nTrying to create a Glue session for the kernel.\nSession Type: glueetl\nWorker Type: G.1X\nNumber of Workers: 5\nSession ID: dab69c04-835e-49df-a796-590d67e1759d\nApplying the following default arguments:\n--glue_kernel_version 1.0.4\n--enable-glue-datacatalog true\nWaiting for session dab69c04-835e-49df-a796-590d67e1759d to get into ready status...\nSession dab69c04-835e-49df-a796-590d67e1759d has been created.\n\n",
					"output_type": "stream"
				}
			]
		},
		{
			"cell_type": "code",
			"source": "final_df.columns",
			"metadata": {
				"trusted": true,
				"tags": []
			},
			"execution_count": 2,
			"outputs": [
				{
					"name": "stdout",
					"text": "Index(['Position', 'Games Played', 'Minutes Per Game', 'Fouls Per Game',\n       'Flagrant Fouls', 'Technical Fouls', 'Ejections', 'Double Double',\n       'Triple Double', 'Minutes', 'Rebounds', 'Fouls', 'Rebounds Per Game',\n       'Points Per Game', 'Average Field Goals Made',\n       'Average Field Goals Attempted', 'Field Goal Percentage',\n       'Average 3-Point Field Goals Made',\n       'Average 3-Point Field Goals Attempted',\n       '3-Point Field Goal Percentage', 'Average Free Throws Made',\n       'Average Free Throws Attempted', 'Free Throw Percentage',\n       'Assists Per Game', 'Turnovers Per Game', 'Points', 'Field Goals Made',\n       'Field Goals Attempted', '3-Point Field Goals Made',\n       '3-Point Field Goals Attempted', 'Free Throws Made',\n       'Free Throws Attempted', 'Assists', 'Turnovers', 'Steals Per Game',\n       'Blocks Per Game', 'Steals', 'Blocks', 'Year', 'SeasonType'],\n      dtype='object')\n",
					"output_type": "stream"
				}
			]
		},
		{
			"cell_type": "code",
			"source": "import pandas as pd\nimport boto3\nfrom io import StringIO\nfrom datetime import datetime\n\n# Convert the DataFrame to a CSV string\ncsv_buffer = StringIO()\nfinal_df.to_csv(csv_buffer)\n\n# Get the current date to name the folder\ndate_str = datetime.now().strftime('%Y-%m-%d')\nfile_name = f\"{date_str}/daily_stats.csv\"\n\n# Bucket name\nbucket_name = 'nbagraphssamsean'\n\n# Initialize a session using boto3\ns3_resource = boto3.resource('s3')\n\n# Upload the CSV file to S3\ns3_resource.Object(bucket_name, file_name).put(Body=csv_buffer.getvalue())\n\nprint(f\"File successfully uploaded to s3://{bucket_name}/{file_name}\")",
			"metadata": {
				"trusted": true,
				"tags": []
			},
			"execution_count": 3,
			"outputs": [
				{
					"name": "stdout",
					"text": "File successfully uploaded to s3://nbagraphssamsean/2024-03-13/daily_stats.csv\n",
					"output_type": "stream"
				}
			]
		},
		{
			"cell_type": "code",
			"source": "from io import BytesIO\nimport boto3\nimport pandas as pd\nimport seaborn as sns\nimport matplotlib.pyplot as plt\n\n# Convert 'Field Goal Percentage' to numeric, coercing errors to NaN and then dropping them\nfinal_df['Field Goal Percentage'] = pd.to_numeric(final_df['Field Goal Percentage'], errors='coerce')\nfinal_df.dropna(subset=['Field Goal Percentage'], inplace=True)\n\n# Define the position names mapping\nposition_names = {\n    'PG': 'Point Guard',\n    'SG': 'Shooting Guard',\n    'SF': 'Small Forward',\n    'PF': 'Power Forward',\n    'C': 'Center',\n    'F': 'Forward',\n    'G': 'Guard'\n}\n\n# Map the 'Position' to 'Position Full Name'\nfinal_df['Position Full Name'] = final_df['Position'].map(position_names)\n\n# Define the desired order for the positions\nposition_order = ['Point Guard', 'Shooting Guard', 'Small Forward', 'Power Forward', 'Center', 'Guard', 'Forward']\n\n# Convert the 'Position Full Name' column to a categorical type with the specified order\nfinal_df['Position Full Name'] = pd.Categorical(final_df['Position Full Name'], categories=position_order, ordered=True)\n\ng = sns.FacetGrid(final_df, col='Year', col_wrap=3, sharex=False, sharey=True, height=5, aspect=1.5)\ng.map_dataframe(sns.boxplot, x='Position Full Name', y='Field Goal Percentage', palette='Set2', order=position_order)\n\n# Additional formatting to enhance readability\ng.set_titles(col_template='Year: {col_name}')\ng.set_axis_labels('Position', 'Field Goal Percentage')\ng.set_xticklabels(rotation=45)\n\n# Adjust the spacing between plots\ng.fig.subplots_adjust(hspace=0.4, wspace=0.4) \n\nbuf = BytesIO() \nplt.savefig(buf, format='png', bbox_inches='tight')\nbuf.seek(0)\ns3 = boto3.client('s3')\n\nobject_name = f'{date_str}/field_goal_percentage_by_position_yearly.png'\ns3.upload_fileobj(buf, bucket_name, object_name)\n\nbuf.close()  \n\nprint(f\"Plot successfully uploaded to s3://{bucket_name}/{object_name}\")\n",
			"metadata": {
				"trusted": true,
				"tags": []
			},
			"execution_count": 4,
			"outputs": [
				{
					"name": "stdout",
					"text": "Plot successfully uploaded to s3://nbagraphssamsean/2024-03-13/field_goal_percentage_by_position_yearly.png\n",
					"output_type": "stream"
				}
			]
		},
		{
			"cell_type": "code",
			"source": "final_df['3-Point Field Goal Percentage'] = pd.to_numeric(final_df['3-Point Field Goal Percentage'], errors='coerce')\nfinal_df.dropna(subset=['3-Point Field Goal Percentage'], inplace=True)\n\ng = sns.FacetGrid(final_df, col='Year', col_wrap=3, sharex=False, sharey=True, height=5, aspect=1.5)\ng.map_dataframe(sns.boxplot, x='Position Full Name', y='3-Point Field Goal Percentage', palette='Set2', order=position_order)\n\n# Additional formatting to enhance readability\ng.set_titles(col_template='Year: {col_name}')\ng.set_axis_labels('Position', '3-Point Field Goal Percentage')\ng.set_xticklabels(rotation=45)\n\n# Adjust the spacing between plots\ng.fig.subplots_adjust(hspace=0.4, wspace=0.4)  # Adjust the spacing between plots\n\nbuf = BytesIO() \nplt.savefig(buf, format='png', bbox_inches='tight')\nbuf.seek(0)\ns3 = boto3.client('s3')\n\nobject_name = f'{date_str}/3-Point_Field Goal_Percentage_by_position_yearly.png'\ns3.upload_fileobj(buf, bucket_name, object_name)\n\nbuf.close()  \n\nprint(f\"Plot successfully uploaded to s3://{bucket_name}/{object_name}\")",
			"metadata": {
				"trusted": true,
				"tags": []
			},
			"execution_count": 5,
			"outputs": [
				{
					"name": "stdout",
					"text": "Plot successfully uploaded to s3://nbagraphssamsean/2024-03-13/3-Point_Field Goal_Percentage_by_position_yearly.png\n",
					"output_type": "stream"
				}
			]
		},
		{
			"cell_type": "code",
			"source": "final_df['Free Throw Percentage'] = pd.to_numeric(final_df['Free Throw Percentage'], errors='coerce')\nfinal_df.dropna(subset=['Free Throw Percentage'], inplace=True)\n\ng = sns.FacetGrid(final_df, col='Year', col_wrap=3, sharex=False, sharey=True, height=5, aspect=1.5)\ng.map_dataframe(sns.boxplot, x='Position Full Name', y='Free Throw Percentage', palette='Set2', order=position_order)\n\n# Additional formatting to enhance readability\ng.set_titles(col_template='Year: {col_name}')\ng.set_axis_labels('Position', 'Free Throw Percentage')\ng.set_xticklabels(rotation=45)\n\n# Adjust the spacing between plots\ng.fig.subplots_adjust(hspace=0.4, wspace=0.4)  # Adjust the spacing between plots\n\n\nbuf = BytesIO() \nplt.savefig(buf, format='png', bbox_inches='tight')\nbuf.seek(0)\ns3 = boto3.client('s3')\n\nobject_name = f'{date_str}/Free_Throw Percentage_by_position_yearly.png'\ns3.upload_fileobj(buf, bucket_name, object_name)\n\nbuf.close()  \n\nprint(f\"Plot successfully uploaded to s3://{bucket_name}/{object_name}\")",
			"metadata": {
				"trusted": true,
				"tags": []
			},
			"execution_count": 6,
			"outputs": [
				{
					"name": "stdout",
					"text": "Plot successfully uploaded to s3://nbagraphssamsean/2024-03-13/Free_Throw Percentage_by_position_yearly.png\n",
					"output_type": "stream"
				}
			]
		},
		{
			"cell_type": "code",
			"source": "final_df['Steals Per Game'] = pd.to_numeric(final_df['Steals Per Game'], errors='coerce')\nfinal_df.dropna(subset=['Steals Per Game'], inplace=True)\n\ng = sns.FacetGrid(final_df, col='Year', col_wrap=3, sharex=False, sharey=True, height=5, aspect=1.5)\ng.map_dataframe(sns.boxplot, x='Position Full Name', y='Steals Per Game', palette='Set2', order=position_order)\n\n# Additional formatting to enhance readability\ng.set_titles(col_template='Year: {col_name}')\ng.set_axis_labels('Position', 'Steals Per Game')\ng.set_xticklabels(rotation=45)\n\n# Adjust the spacing between plots\ng.fig.subplots_adjust(hspace=0.4, wspace=0.4)  # Adjust the spacing between plots\n\nbuf = BytesIO()\nplt.savefig(buf, format='png', bbox_inches='tight')\nbuf.seek(0)\ns3 = boto3.client('s3')\n\nobject_name = f'{date_str}/Steals_Per_Game_by_position_yearly.png'\ns3.upload_fileobj(buf, bucket_name, object_name)\n\nbuf.close()  \n\nprint(f\"Plot successfully uploaded to s3://{bucket_name}/{object_name}\")",
			"metadata": {
				"trusted": true,
				"tags": []
			},
			"execution_count": 7,
			"outputs": [
				{
					"name": "stdout",
					"text": "Plot successfully uploaded to s3://nbagraphssamsean/2024-03-13/Steals_Per_Game_by_position_yearly.png\n",
					"output_type": "stream"
				}
			]
		},
		{
			"cell_type": "code",
			"source": "final_df['Blocks Per Game'] = pd.to_numeric(final_df['Blocks Per Game'], errors='coerce')\nfinal_df.dropna(subset=['Blocks Per Game'], inplace=True)\n\ng = sns.FacetGrid(final_df, col='Year', col_wrap=3, sharex=False, sharey=True, height=5, aspect=1.5)\ng.map_dataframe(sns.boxplot, x='Position Full Name', y='Blocks Per Game', palette='Set2', order=position_order)\n\n# Additional formatting to enhance readability\ng.set_titles(col_template='Year: {col_name}')\ng.set_axis_labels('Position', 'Blocks Per Game')\ng.set_xticklabels(rotation=45)\n\n# Adjust the spacing between plots\ng.fig.subplots_adjust(hspace=0.4, wspace=0.4)  # Adjust the spacing between plots\n\nbuf = BytesIO()\nplt.savefig(buf, format='png', bbox_inches='tight')\nbuf.seek(0)\ns3 = boto3.client('s3')\n\nobject_name = f'{date_str}/Blocks_Per_Game_by_position_yearly.png'\ns3.upload_fileobj(buf, bucket_name, object_name)\n\nbuf.close()  \n\nprint(f\"Plot successfully uploaded to s3://{bucket_name}/{object_name}\")",
			"metadata": {
				"trusted": true,
				"tags": []
			},
			"execution_count": 8,
			"outputs": [
				{
					"name": "stdout",
					"text": "Plot successfully uploaded to s3://nbagraphssamsean/2024-03-13/Blocks_Per_Game_by_position_yearly.png\n",
					"output_type": "stream"
				}
			]
		},
		{
			"cell_type": "code",
			"source": "final_df['SeasonType'].unique()",
			"metadata": {
				"trusted": true,
				"tags": []
			},
			"execution_count": 9,
			"outputs": [
				{
					"name": "stdout",
					"text": "array(['Regular Season', 'Postseason'], dtype=object)\n",
					"output_type": "stream"
				}
			]
		},
		{
			"cell_type": "code",
			"source": "g = sns.FacetGrid(final_df, col='SeasonType', col_wrap=2, sharex=False, sharey=True, height=5, aspect=1.5)\ng.map_dataframe(sns.boxplot, x='Position Full Name', y='Field Goal Percentage', palette='Set2', order=position_order)\n\n# Additional formatting to enhance readability\ng.set_titles(col_template='{col_name}')\ng.set_axis_labels('Position', 'Field Goal Percentage')\ng.set_xticklabels(rotation=45)\n\n# Adjust the spacing between plots\ng.fig.subplots_adjust(hspace=0.4, wspace=0.4)  # Adjust the spacing between plots\n\nbuf = BytesIO()\nplt.savefig(buf, format='png', bbox_inches='tight')\nbuf.seek(0)\ns3 = boto3.client('s3')\n\nobject_name = f'{date_str}/field_goal_percentage_by_position_seasonal.png'\ns3.upload_fileobj(buf, bucket_name, object_name)\n\nbuf.close()  \n\nprint(f\"Plot successfully uploaded to s3://{bucket_name}/{object_name}\")",
			"metadata": {
				"trusted": true,
				"tags": []
			},
			"execution_count": 10,
			"outputs": [
				{
					"name": "stdout",
					"text": "Plot successfully uploaded to s3://nbagraphssamsean/2024-03-13/field_goal_percentage_by_position_seasonal.png\n",
					"output_type": "stream"
				}
			]
		},
		{
			"cell_type": "code",
			"source": "g = sns.FacetGrid(final_df, col='SeasonType', col_wrap=2, sharex=False, sharey=True, height=5, aspect=1.5)\ng.map_dataframe(sns.boxplot, x='Position Full Name', y='3-Point Field Goal Percentage', palette='Set2', order=position_order)\n\n# Additional formatting to enhance readability\ng.set_titles(col_template='{col_name}')\ng.set_axis_labels('Position', '3-Point Field Goal Percentage')\ng.set_xticklabels(rotation=45)\n\n# Adjust the spacing between plots\ng.fig.subplots_adjust(hspace=0.4, wspace=0.4)  # Adjust the spacing between plots\n\nbuf = BytesIO() \nplt.savefig(buf, format='png', bbox_inches='tight')\nbuf.seek(0)\ns3 = boto3.client('s3')\n\nobject_name = f'{date_str}/3-Point_Field_Goal_Percentage_by_position_seasonal.png'\ns3.upload_fileobj(buf, bucket_name, object_name)\n\nbuf.close()  \n\nprint(f\"Plot successfully uploaded to s3://{bucket_name}/{object_name}\")",
			"metadata": {
				"trusted": true,
				"tags": []
			},
			"execution_count": 11,
			"outputs": [
				{
					"name": "stdout",
					"text": "Plot successfully uploaded to s3://nbagraphssamsean/2024-03-13/3-Point_Field_Goal_Percentage_by_position_seasonal.png\n",
					"output_type": "stream"
				}
			]
		},
		{
			"cell_type": "code",
			"source": "g = sns.FacetGrid(final_df, col='SeasonType', col_wrap=2, sharex=False, sharey=True, height=5, aspect=1.5)\ng.map_dataframe(sns.boxplot, x='Position Full Name', y='Steals Per Game', palette='Set2', order=position_order)\n\n# Additional formatting to enhance readability\ng.set_titles(col_template='{col_name}')\ng.set_axis_labels('Position', 'Steals Per Game')\ng.set_xticklabels(rotation=45)\n\n# Adjust the spacing between plots\ng.fig.subplots_adjust(hspace=0.4, wspace=0.4)  # Adjust the spacing between plots\n\nbuf = BytesIO()\nplt.savefig(buf, format='png', bbox_inches='tight')\nbuf.seek(0)\ns3 = boto3.client('s3')\n\nobject_name = f'{date_str}/Steals_Per_Game_by_position_seasonal.png'\ns3.upload_fileobj(buf, bucket_name, object_name)\n\nbuf.close()  \n\nprint(f\"Plot successfully uploaded to s3://{bucket_name}/{object_name}\")",
			"metadata": {
				"trusted": true,
				"tags": []
			},
			"execution_count": 12,
			"outputs": [
				{
					"name": "stdout",
					"text": "Plot successfully uploaded to s3://nbagraphssamsean/2024-03-13/Steals_Per_Game_by_position_seasonal.png\n",
					"output_type": "stream"
				}
			]
		},
		{
			"cell_type": "code",
			"source": "g = sns.FacetGrid(final_df, col='SeasonType', col_wrap=2, sharex=False, sharey=True, height=5, aspect=1.5)\ng.map_dataframe(sns.boxplot, x='Position Full Name', y='Free Throw Percentage', palette='Set2', order=position_order)\n\n# Additional formatting to enhance readability\ng.set_titles(col_template='{col_name}')\ng.set_axis_labels('Position', 'Free Throw Percentage')\ng.set_xticklabels(rotation=45)\n\n# Adjust the spacing between plots\ng.fig.subplots_adjust(hspace=0.4, wspace=0.4)  # Adjust the spacing between plots\n\nbuf = BytesIO()\nplt.savefig(buf, format='png', bbox_inches='tight')\nbuf.seek(0)\ns3 = boto3.client('s3')\n\nobject_name = f'{date_str}/Free_Throw_Percentage_by_position_seasonal.png'\ns3.upload_fileobj(buf, bucket_name, object_name)\n\nbuf.close()  \n\nprint(f\"Plot successfully uploaded to s3://{bucket_name}/{object_name}\")",
			"metadata": {
				"trusted": true,
				"tags": []
			},
			"execution_count": 13,
			"outputs": [
				{
					"name": "stdout",
					"text": "Plot successfully uploaded to s3://nbagraphssamsean/2024-03-13/Free_Throw_Percentage_by_position_seasonal.png\n",
					"output_type": "stream"
				}
			]
		},
		{
			"cell_type": "code",
			"source": "g = sns.FacetGrid(final_df, col='SeasonType', col_wrap=2, sharex=False, sharey=True, height=5, aspect=1.5)\ng.map_dataframe(sns.boxplot, x='Position Full Name', y='Blocks Per Game', palette='Set2', order=position_order)\n\n# Additional formatting to enhance readability\ng.set_titles(col_template='{col_name}')\ng.set_axis_labels('Position', 'Blocks Per Game')\ng.set_xticklabels(rotation=45)\n\n# Adjust the spacing between plots\ng.fig.subplots_adjust(hspace=0.4, wspace=0.4)  # Adjust the spacing between plots\n\nbuf = BytesIO()\nplt.savefig(buf, format='png', bbox_inches='tight')\nbuf.seek(0)\ns3 = boto3.client('s3')\n\nobject_name = f'{date_str}/Blocks_Per_Game_by_position_seasonal.png'\ns3.upload_fileobj(buf, bucket_name, object_name)\n\nbuf.close()  \n\nprint(f\"Plot successfully uploaded to s3://{bucket_name}/{object_name}\")",
			"metadata": {
				"trusted": true,
				"tags": []
			},
			"execution_count": 14,
			"outputs": [
				{
					"name": "stdout",
					"text": "Plot successfully uploaded to s3://nbagraphssamsean/2024-03-13/Blocks_Per_Game_by_position_seasonal.png\n",
					"output_type": "stream"
				}
			]
		},
		{
			"cell_type": "code",
			"source": "",
			"metadata": {},
			"execution_count": null,
			"outputs": []
		}
	]
}
